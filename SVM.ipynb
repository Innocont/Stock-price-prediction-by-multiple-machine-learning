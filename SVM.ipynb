{
 "cells": [
  {
   "cell_type": "code",
   "execution_count": 14,
   "metadata": {},
   "outputs": [],
   "source": [
    "import pandas as pd\n",
    "import numpy as np\n",
    "from sklearn import svm\n",
    "# sklearn下cross_validation：交叉验证\n",
    "from sklearn import model_selection\n",
    "#parse_dates=第0列解析为日期， index_col= 用作行索引的列编号）\n",
    "data =pd.read_csv('train_data.csv',parse_dates=[0],index_col=0)\n",
    "#DataFrame.sort_index(axis=0 (按0列排), ascending=True（升序）,\n",
    "#inplace=False（排序后是否覆盖原数据））data 按照时间升序排列\n",
    "data.sort_index(0,ascending=True,inplace=True)"
   ]
  },
  {
   "cell_type": "code",
   "execution_count": 15,
   "metadata": {},
   "outputs": [
    {
     "data": {
      "text/plain": [
       "(4865, 11)"
      ]
     },
     "execution_count": 15,
     "metadata": {},
     "output_type": "execute_result"
    }
   ],
   "source": [
    "data.shape"
   ]
  },
  {
   "cell_type": "code",
   "execution_count": 16,
   "metadata": {},
   "outputs": [],
   "source": [
    "#dayfeature：选取4856-300天的数据\n",
    "#featurenum：选取的5个特征*天数\n",
    "#x：记录150天的5个特征值 y：记录涨或者跌\n",
    "dayfeature=4856-300\n",
    "featurenum =5*dayfeature\n",
    "# 即150*5， +1是将当天的开盘价引入作为一条特征数据\n",
    "x=np.zeros((data.shape[0]-dayfeature,featurenum+1))\n",
    "y=np.zeros((data.shape[0]-dayfeature))"
   ]
  },
  {
   "cell_type": "code",
   "execution_count": 21,
   "metadata": {},
   "outputs": [
    {
     "name": "stdout",
     "output_type": "stream",
     "text": [
      "svm classifier accuacy:\n",
      "[0.5161290322580645, 0.5806451612903226, 0.45161290322580644, 0.6129032258064516, 0.6451612903225806]\n"
     ]
    }
   ],
   "source": [
    "for i in range(0,data.shape[0]-dayfeature):\n",
    "    x[i,0:featurenum]=np.array(data[i:i+dayfeature]\\\n",
    "                               [['close','high',   'low',u'open','vol']]).reshape((1,featurenum))\n",
    "    x[i,featurenum]=data.loc[i+dayfeature]['open']\n",
    "for i in range(0,data.shape[0]-dayfeature):\n",
    "    if data.loc[i+dayfeature]['close']>=data.loc[i+dayfeature]['open']:\n",
    "        y[i]=1\n",
    "    else:\n",
    "        y[i]=0\n",
    "        #如果当天收盘价高于开盘价，y[i]=1代表涨，0代表跌\n",
    "#创建SVM并进行交叉验证\n",
    "clf =svm.SVC(kernel='sigmoid')\n",
    "result =[]\n",
    "for i in range(5):\n",
    "    #x和y的验证集和测试集，切分80 - 20 % 的测试集\n",
    "    x_train,x_test,y_train,y_test =\\\n",
    "        model_selection.train_test_split(x,y,test_size=0.2)\n",
    "    #训练数据进行训练\n",
    "    clf.fit(x_train,y_train)\n",
    "    #将预测数据和测试集的验证数据比对\n",
    "    result.append(np.mean(y_test ==clf.predict(x_test)))\n",
    "print(\"svm classifier accuacy:\")\n",
    "print(result)"
   ]
  },
  {
   "cell_type": "code",
   "execution_count": null,
   "metadata": {},
   "outputs": [],
   "source": [
    "#经手动比对，为sigmoid时效果最好，五次实验交叉验证准确率仅为0.4-0.6"
   ]
  }
 ],
 "metadata": {
  "kernelspec": {
   "display_name": "Python 3",
   "language": "python",
   "name": "python3"
  },
  "language_info": {
   "codemirror_mode": {
    "name": "ipython",
    "version": 3
   },
   "file_extension": ".py",
   "mimetype": "text/x-python",
   "name": "python",
   "nbconvert_exporter": "python",
   "pygments_lexer": "ipython3",
   "version": "3.6.5"
  }
 },
 "nbformat": 4,
 "nbformat_minor": 4
}
